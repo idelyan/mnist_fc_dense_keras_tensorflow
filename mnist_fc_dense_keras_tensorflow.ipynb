{
  "nbformat": 4,
  "nbformat_minor": 0,
  "metadata": {
    "colab": {
      "provenance": []
    },
    "kernelspec": {
      "name": "python3",
      "display_name": "Python 3"
    },
    "language_info": {
      "name": "python"
    }
  },
  "cells": [
    {
      "cell_type": "code",
      "source": [
        "from tensorflow.keras.layers import Dense, Input\n",
        "from tensorflow.keras.optimizers import Adam\n",
        "from tensorflow.keras.callbacks import ModelCheckpoint, EarlyStopping, ReduceLROnPlateau\n",
        "from tensorflow.keras.models import Model, load_model\n",
        "from tensorflow.keras.datasets import mnist\n",
        "from tensorflow.keras.utils import to_categorical\n",
        "import tensorflow as tf\n",
        "import numpy as np"
      ],
      "metadata": {
        "id": "2qlDdwiuwR0-"
      },
      "execution_count": 1,
      "outputs": []
    },
    {
      "cell_type": "code",
      "source": [
        "(x_train, y_train), (x_test, y_test) = mnist.load_data()"
      ],
      "metadata": {
        "id": "QoM2Sojuy2YT"
      },
      "execution_count": 2,
      "outputs": []
    },
    {
      "cell_type": "code",
      "source": [
        "n_classes = 10\n",
        "batch_size = 64\n",
        "input_shape = x_train.shape[1] * x_train.shape[1]"
      ],
      "metadata": {
        "id": "wIddo55My3JB"
      },
      "execution_count": 3,
      "outputs": []
    },
    {
      "cell_type": "code",
      "source": [
        "x_train = x_train.astype('float32') / 255\n",
        "x_test = x_test.astype('float32') / 255\n",
        "\n",
        "x_train = x_train.reshape(x_train.shape[0], input_shape)\n",
        "x_test = x_test.reshape(x_test.shape[0], input_shape)\n",
        "\n",
        "y_train = to_categorical(y_train, n_classes)\n",
        "y_test = to_categorical(y_test, n_classes)"
      ],
      "metadata": {
        "id": "R5kvu7-XzOgL"
      },
      "execution_count": 4,
      "outputs": []
    },
    {
      "cell_type": "code",
      "source": [
        "input = Input(shape=(input_shape,))\n",
        "\n",
        "x = Dense(512, activation='relu')(input)\n",
        "x = Dense(64, activation='relu')(x)\n",
        "output = Dense(n_classes, activation='softmax')(x)\n",
        "\n",
        "model = Model(inputs=input, outputs=output)\n",
        "model.summary()"
      ],
      "metadata": {
        "colab": {
          "base_uri": "https://localhost:8080/"
        },
        "id": "I9S0ajljzXyw",
        "outputId": "d7ef35f6-ba29-4dc5-86ee-2fd0dc10de10"
      },
      "execution_count": 5,
      "outputs": [
        {
          "output_type": "stream",
          "name": "stdout",
          "text": [
            "Model: \"model\"\n",
            "_________________________________________________________________\n",
            " Layer (type)                Output Shape              Param #   \n",
            "=================================================================\n",
            " input_1 (InputLayer)        [(None, 784)]             0         \n",
            "                                                                 \n",
            " dense (Dense)               (None, 512)               401920    \n",
            "                                                                 \n",
            " dense_1 (Dense)             (None, 64)                32832     \n",
            "                                                                 \n",
            " dense_2 (Dense)             (None, 10)                650       \n",
            "                                                                 \n",
            "=================================================================\n",
            "Total params: 435,402\n",
            "Trainable params: 435,402\n",
            "Non-trainable params: 0\n",
            "_________________________________________________________________\n"
          ]
        }
      ]
    },
    {
      "cell_type": "code",
      "source": [
        "model.compile(optimizer=\"adam\", metrics=[\"accuracy\"], loss=\"categorical_crossentropy\")"
      ],
      "metadata": {
        "id": "JJ8-yeoNzYWI"
      },
      "execution_count": 6,
      "outputs": []
    },
    {
      "cell_type": "code",
      "source": [
        "callbacks = [\n",
        "    EarlyStopping(patience=5, monitor='val_accuracy', mode=\"auto\"),\n",
        "    ReduceLROnPlateau(factor=0.1, patience=2, min_lr=0.0001, monitor='val_accuracy', mode='max', verbose=1),\n",
        "    ModelCheckpoint('model.h5', save_best_only=True, save_weights_only=True, monitor='val_accuracy', mode='max', verbose=1)\n",
        "]"
      ],
      "metadata": {
        "id": "R_Gbt7RlzbTl"
      },
      "execution_count": 7,
      "outputs": []
    },
    {
      "cell_type": "code",
      "source": [
        "model.fit(x_train, y_train, batch_size=batch_size, epochs=30, validation_split=0.1, callbacks=callbacks)"
      ],
      "metadata": {
        "colab": {
          "base_uri": "https://localhost:8080/"
        },
        "id": "oiyf0FPuzdWi",
        "outputId": "ae6e54d8-ab04-4bc5-81d6-3a508c8d60bd"
      },
      "execution_count": 8,
      "outputs": [
        {
          "output_type": "stream",
          "name": "stdout",
          "text": [
            "Epoch 1/30\n",
            "839/844 [============================>.] - ETA: 0s - loss: 0.2259 - accuracy: 0.9335\n",
            "Epoch 1: val_accuracy improved from -inf to 0.97083, saving model to model.h5\n",
            "844/844 [==============================] - 8s 9ms/step - loss: 0.2255 - accuracy: 0.9336 - val_loss: 0.1007 - val_accuracy: 0.9708 - lr: 0.0010\n",
            "Epoch 2/30\n",
            "843/844 [============================>.] - ETA: 0s - loss: 0.0847 - accuracy: 0.9746\n",
            "Epoch 2: val_accuracy improved from 0.97083 to 0.97383, saving model to model.h5\n",
            "844/844 [==============================] - 7s 9ms/step - loss: 0.0847 - accuracy: 0.9746 - val_loss: 0.0844 - val_accuracy: 0.9738 - lr: 0.0010\n",
            "Epoch 3/30\n",
            "840/844 [============================>.] - ETA: 0s - loss: 0.0571 - accuracy: 0.9818\n",
            "Epoch 3: val_accuracy improved from 0.97383 to 0.97883, saving model to model.h5\n",
            "844/844 [==============================] - 7s 8ms/step - loss: 0.0571 - accuracy: 0.9818 - val_loss: 0.0777 - val_accuracy: 0.9788 - lr: 0.0010\n",
            "Epoch 4/30\n",
            "837/844 [============================>.] - ETA: 0s - loss: 0.0397 - accuracy: 0.9874\n",
            "Epoch 4: val_accuracy did not improve from 0.97883\n",
            "844/844 [==============================] - 7s 8ms/step - loss: 0.0396 - accuracy: 0.9874 - val_loss: 0.0793 - val_accuracy: 0.9787 - lr: 0.0010\n",
            "Epoch 5/30\n",
            "839/844 [============================>.] - ETA: 0s - loss: 0.0317 - accuracy: 0.9893\n",
            "Epoch 5: ReduceLROnPlateau reducing learning rate to 0.00010000000474974513.\n",
            "\n",
            "Epoch 5: val_accuracy did not improve from 0.97883\n",
            "844/844 [==============================] - 7s 9ms/step - loss: 0.0317 - accuracy: 0.9894 - val_loss: 0.0856 - val_accuracy: 0.9788 - lr: 0.0010\n",
            "Epoch 6/30\n",
            "841/844 [============================>.] - ETA: 0s - loss: 0.0108 - accuracy: 0.9969\n",
            "Epoch 6: val_accuracy improved from 0.97883 to 0.98500, saving model to model.h5\n",
            "844/844 [==============================] - 6s 7ms/step - loss: 0.0109 - accuracy: 0.9969 - val_loss: 0.0626 - val_accuracy: 0.9850 - lr: 1.0000e-04\n",
            "Epoch 7/30\n",
            "840/844 [============================>.] - ETA: 0s - loss: 0.0065 - accuracy: 0.9986\n",
            "Epoch 7: val_accuracy improved from 0.98500 to 0.98533, saving model to model.h5\n",
            "844/844 [==============================] - 8s 9ms/step - loss: 0.0065 - accuracy: 0.9986 - val_loss: 0.0618 - val_accuracy: 0.9853 - lr: 1.0000e-04\n",
            "Epoch 8/30\n",
            "842/844 [============================>.] - ETA: 0s - loss: 0.0049 - accuracy: 0.9991\n",
            "Epoch 8: val_accuracy improved from 0.98533 to 0.98567, saving model to model.h5\n",
            "844/844 [==============================] - 6s 7ms/step - loss: 0.0049 - accuracy: 0.9991 - val_loss: 0.0619 - val_accuracy: 0.9857 - lr: 1.0000e-04\n",
            "Epoch 9/30\n",
            "840/844 [============================>.] - ETA: 0s - loss: 0.0038 - accuracy: 0.9993\n",
            "Epoch 9: val_accuracy improved from 0.98567 to 0.98617, saving model to model.h5\n",
            "844/844 [==============================] - 8s 9ms/step - loss: 0.0038 - accuracy: 0.9993 - val_loss: 0.0635 - val_accuracy: 0.9862 - lr: 1.0000e-04\n",
            "Epoch 10/30\n",
            "843/844 [============================>.] - ETA: 0s - loss: 0.0030 - accuracy: 0.9996\n",
            "Epoch 10: val_accuracy did not improve from 0.98617\n",
            "844/844 [==============================] - 6s 7ms/step - loss: 0.0030 - accuracy: 0.9996 - val_loss: 0.0653 - val_accuracy: 0.9852 - lr: 1.0000e-04\n",
            "Epoch 11/30\n",
            "844/844 [==============================] - ETA: 0s - loss: 0.0023 - accuracy: 0.9997\n",
            "Epoch 11: ReduceLROnPlateau reducing learning rate to 0.0001.\n",
            "\n",
            "Epoch 11: val_accuracy did not improve from 0.98617\n",
            "844/844 [==============================] - 7s 9ms/step - loss: 0.0023 - accuracy: 0.9997 - val_loss: 0.0654 - val_accuracy: 0.9850 - lr: 1.0000e-04\n",
            "Epoch 12/30\n",
            "840/844 [============================>.] - ETA: 0s - loss: 0.0017 - accuracy: 0.9998\n",
            "Epoch 12: val_accuracy did not improve from 0.98617\n",
            "844/844 [==============================] - 6s 8ms/step - loss: 0.0017 - accuracy: 0.9998 - val_loss: 0.0696 - val_accuracy: 0.9843 - lr: 1.0000e-04\n",
            "Epoch 13/30\n",
            "842/844 [============================>.] - ETA: 0s - loss: 0.0013 - accuracy: 0.9999\n",
            "Epoch 13: val_accuracy did not improve from 0.98617\n",
            "844/844 [==============================] - 7s 8ms/step - loss: 0.0013 - accuracy: 0.9999 - val_loss: 0.0725 - val_accuracy: 0.9850 - lr: 1.0000e-04\n",
            "Epoch 14/30\n",
            "841/844 [============================>.] - ETA: 0s - loss: 0.0011 - accuracy: 0.9999\n",
            "Epoch 14: val_accuracy did not improve from 0.98617\n",
            "844/844 [==============================] - 6s 7ms/step - loss: 0.0011 - accuracy: 0.9999 - val_loss: 0.0725 - val_accuracy: 0.9843 - lr: 1.0000e-04\n"
          ]
        },
        {
          "output_type": "execute_result",
          "data": {
            "text/plain": [
              "<keras.callbacks.History at 0x7fa3d0c4e7f0>"
            ]
          },
          "metadata": {},
          "execution_count": 8
        }
      ]
    },
    {
      "cell_type": "code",
      "source": [
        "model.load_weights(\"model.h5\")"
      ],
      "metadata": {
        "id": "NupwGuBq4zVB"
      },
      "execution_count": 9,
      "outputs": []
    },
    {
      "cell_type": "code",
      "source": [
        "score = model.evaluate(x_test, y_test, verbose=0)\n",
        "print(\"Test loss:\", score[0])\n",
        "print(\"Test accuracy:\", score[1])"
      ],
      "metadata": {
        "colab": {
          "base_uri": "https://localhost:8080/"
        },
        "id": "HxWacqeUUdIx",
        "outputId": "6dbcfe2d-0ca2-49dc-d7cf-264606cf56ed"
      },
      "execution_count": 10,
      "outputs": [
        {
          "output_type": "stream",
          "name": "stdout",
          "text": [
            "Test loss: 0.05854372680187225\n",
            "Test accuracy: 0.9846000075340271\n"
          ]
        }
      ]
    }
  ]
}